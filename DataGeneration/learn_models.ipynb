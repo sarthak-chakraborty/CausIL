{
 "cells": [
  {
   "cell_type": "code",
   "execution_count": null,
   "id": "03f505e5-f332-4e04-a7b3-80d4f7af381b",
   "metadata": {},
   "outputs": [],
   "source": [
    "import pandas as pd\n",
    "import numpy as np\n",
    "import pickle\n",
    "from sklearn.ensemble import RandomForestRegressor\n",
    "from sklearn.preprocessing import PolynomialFeatures\n",
    "from sklearn import linear_model"
   ]
  },
  {
   "cell_type": "code",
   "execution_count": null,
   "id": "9b851fb2-ba68-40a3-a045-67041311e65d",
   "metadata": {},
   "outputs": [],
   "source": [
    "PATH = 'path/to/dataset'\n",
    "TYPE = 'synthetic'\n",
    "df = pd.read_csv(PATH)\n",
    "df = df.dropna()"
   ]
  },
  {
   "cell_type": "code",
   "execution_count": null,
   "id": "83b6c1b5-db51-4f23-92f3-158b6d5115de",
   "metadata": {},
   "outputs": [],
   "source": [
    "sub_df = df[['timestamp', 'workload']]\n",
    "n_instances = sub_df.astype(float).groupby('timestamp').agg(len)\n",
    "total_workload = sub_df.astype(float).groupby('timestamp').agg(sum)"
   ]
  },
  {
   "cell_type": "markdown",
   "id": "922c4532-4252-4ce7-9511-968374d70ce4",
   "metadata": {},
   "source": [
    "## f1"
   ]
  },
  {
   "cell_type": "code",
   "execution_count": null,
   "id": "d68024cc-683f-4496-bb7f-9ffe9cf0d607",
   "metadata": {},
   "outputs": [],
   "source": [
    "x_train = total_workload['workload'].values.reshape(-1,1)\n",
    "y_train = n_instances['workload'].values\n",
    "\n",
    "if TYPE == 'synthetic':\n",
    "    polynomial_features= PolynomialFeatures(degree=2)\n",
    "    x_train = polynomial_features.fit_transform(x_train)\n",
    "    regressor1 = linear_model.Ridge(alpha=0.1)\n",
    "else:\n",
    "    regressor1 = RandomForestRegressor(n_estimators = 100, random_state = 0)\n",
    "  \n",
    "# fit the regressor with x and y data\n",
    "regressor1.fit(x_train, y_train)\n",
    "\n",
    "filename = 'synthetic_models/f1.sav'\n",
    "pickle.dump(regressor1, open(filename, 'wb'))"
   ]
  },
  {
   "cell_type": "markdown",
   "id": "c67ad83d-3c5b-4296-ae08-d504f1c37b54",
   "metadata": {},
   "source": [
    "## f2"
   ]
  },
  {
   "cell_type": "code",
   "execution_count": null,
   "id": "0039dcba-1396-42cf-a183-5c99db88c614",
   "metadata": {},
   "outputs": [],
   "source": [
    "x_train= df['workload'].values.reshape(-1,1)\n",
    "y_train = df['cpuUsage'].values\n",
    "\n",
    "if TYPE == 'synthetic':\n",
    "    polynomial_features= PolynomialFeatures(degree=2)\n",
    "    x_train = polynomial_features.fit_transform(x_train)\n",
    "    regressor2 = linear_model.Ridge(alpha=0.1)\n",
    "else:\n",
    "    regressor2 = RandomForestRegressor(n_estimators = 100, random_state = 0)\n",
    "  \n",
    "# fit the regressor with x and y data\n",
    "regressor2.fit(x_train, y_train)\n",
    "\n",
    "filename = 'synthetic_models/f2.sav'\n",
    "pickle.dump(regressor2, open(filename, 'wb'))"
   ]
  },
  {
   "cell_type": "markdown",
   "id": "2ddf6e05-471e-4b91-b35e-7bd283a5ddba",
   "metadata": {},
   "source": [
    "## f3"
   ]
  },
  {
   "cell_type": "code",
   "execution_count": null,
   "id": "2bc32e6d-7aec-4d57-88ba-03b1b6761464",
   "metadata": {},
   "outputs": [],
   "source": [
    "x_train = df[['cpuUsage', 'workload']].values.reshape(-1,2)\n",
    "y_train = df['memoryUsage'].values\n",
    "\n",
    "if TYPE == 'synthetic':\n",
    "    polynomial_features= PolynomialFeatures(degree=2)\n",
    "    x_train = polynomial_features.fit_transform(x_train)\n",
    "    regressor3 = linear_model.Ridge(alpha=0.1)\n",
    "else:\n",
    "    regressor3 = RandomForestRegressor(n_estimators = 100, random_state = 0, max_depth=10)\n",
    "  \n",
    "# fit the regressor with x and y data\n",
    "regressor3.fit(x_train, y_train)\n",
    "\n",
    "filename = 'synthetic_models/f3.sav'\n",
    "pickle.dump(regressor3, open(filename, 'wb'))"
   ]
  },
  {
   "cell_type": "markdown",
   "id": "105abcce-8963-4331-90c2-800fcd6e51a5",
   "metadata": {},
   "source": [
    "## f4"
   ]
  },
  {
   "cell_type": "code",
   "execution_count": null,
   "id": "13f9d49a-3a4f-479b-b582-b26980653c4c",
   "metadata": {},
   "outputs": [],
   "source": [
    "x_train = df[['cpuUsage', 'memoryUsage', 'workload']].values.reshape(-1,3)\n",
    "y_train = df['error_count'].values\n",
    "\n",
    "if TYPE == 'synthetic':\n",
    "    polynomial_features= PolynomialFeatures(degree=2)\n",
    "    x_train = polynomial_features.fit_transform(x_train)\n",
    "    regressor4 = linear_model.Ridge(alpha=0.1)\n",
    "else:\n",
    "    regressor4 = RandomForestRegressor(n_estimators = 100, random_state = 0)\n",
    "  \n",
    "# fit the regressor with x and y data\n",
    "regressor4.fit(x_train, y_train)\n",
    "\n",
    "filename = 'synthetic_models/f4.sav'\n",
    "pickle.dump(regressor4, open(filename, 'wb'))"
   ]
  },
  {
   "cell_type": "markdown",
   "id": "80544529-e0bb-47b0-930e-8d2e350a3e8d",
   "metadata": {},
   "source": [
    "## f5"
   ]
  },
  {
   "cell_type": "code",
   "execution_count": null,
   "id": "5a107a32-4ad2-4c53-96da-4dcb17d85d64",
   "metadata": {},
   "outputs": [],
   "source": [
    "x_train = df[['cpuUsage', 'memoryUsage', 'workload', 'error_count']].values.reshape(-1,4)\n",
    "y_train = df['latency'].values\n",
    "\n",
    "if TYPE == 'synthetic':\n",
    "    polynomial_features= PolynomialFeatures(degree=2)\n",
    "    x_train = polynomial_features.fit_transform(x_train)\n",
    "    regressor5 = linear_model.Ridge(alpha=0.1)\n",
    "else:\n",
    "    regressor5 = RandomForestRegressor(n_estimators = 100, random_state = 0)\n",
    "  \n",
    "# fit the regressor with x and y data\n",
    "regressor5.fit(x_train, y_train)\n",
    "\n",
    "filename = 'synthetic_models/f5.sav'\n",
    "pickle.dump(regressor5, open(filename, 'wb'))"
   ]
  }
 ],
 "metadata": {
  "kernelspec": {
   "display_name": "Python 3",
   "language": "python",
   "name": "python3"
  },
  "language_info": {
   "codemirror_mode": {
    "name": "ipython",
    "version": 3
   },
   "file_extension": ".py",
   "mimetype": "text/x-python",
   "name": "python",
   "nbconvert_exporter": "python",
   "pygments_lexer": "ipython3",
   "version": "3.8.12"
  }
 },
 "nbformat": 4,
 "nbformat_minor": 5
}
